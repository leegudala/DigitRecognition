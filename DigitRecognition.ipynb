{
  "cells": [
    {
      "metadata": {
        "_uuid": "08bfa1a6ca75883690a554f9ca6da270ea74638f"
      },
      "cell_type": "markdown",
      "source": "This notebook is for beginners approach to proceed with MNIST Digit Recognizer dataset. \nI have tried to cover topics like how to proceed with a **Binary Classification** problem as well as **Multi Class Classification**.\nMulti-Class classification strategies like **OnevsOne** and **OnevsAll** classifier has also been discussed.\n\nAny suggestions for improvement or comments are highly appreciated! "
    },
    {
      "metadata": {
        "_uuid": "8f2839f25d086af736a60e9eeb907d3b93b6e0e5",
        "_cell_guid": "b1076dfc-b9ad-4769-8c92-a6c4dae69d19",
        "trusted": true,
        "collapsed": true
      },
      "cell_type": "code",
      "source": "import numpy as np # linear algebra\nimport pandas as pd # data processing, CSV file I/O (e.g. pd.read_csv)\nimport os\nprint(os.listdir(\"../input\"))",
      "execution_count": null,
      "outputs": []
    },
    {
      "metadata": {
        "_cell_guid": "79c7e3d0-c299-4dcb-8224-4455121ee9b0",
        "_uuid": "d629ff2d2480ee46fbb7e2d37f6b5fab8052498a",
        "trusted": true,
        "collapsed": true
      },
      "cell_type": "code",
      "source": "df_train = pd.read_csv(\"../input/train.csv\")\ndf_train.head(5)",
      "execution_count": null,
      "outputs": []
    },
    {
      "metadata": {
        "trusted": true,
        "_uuid": "00b026b72f36444e9c974982a76fc73f3f4e902c",
        "collapsed": true
      },
      "cell_type": "code",
      "source": "df_train.shape",
      "execution_count": null,
      "outputs": []
    },
    {
      "metadata": {
        "trusted": true,
        "collapsed": true,
        "_uuid": "4cc40868f4c7c37cc93b18e7c0ec1838a8a31362"
      },
      "cell_type": "code",
      "source": "y = df_train['label']",
      "execution_count": null,
      "outputs": []
    },
    {
      "metadata": {
        "trusted": true,
        "_uuid": "bc92dd4cf3b6c9432d7128ac60ff17783d7ce22f",
        "collapsed": true
      },
      "cell_type": "code",
      "source": "df = df_train.drop(['label'], axis=1)\ndf.head()",
      "execution_count": null,
      "outputs": []
    },
    {
      "metadata": {
        "trusted": true,
        "collapsed": true,
        "_uuid": "c6c2342adc76fc2294a39bede0e3a50ca068c0ba"
      },
      "cell_type": "code",
      "source": "# To plot pretty figures\n%matplotlib inline\nimport matplotlib\nimport matplotlib.pyplot as plt\nplt.rcParams['axes.labelsize'] = 14\nplt.rcParams['xtick.labelsize'] = 12\nplt.rcParams['ytick.labelsize'] = 12\n\n",
      "execution_count": null,
      "outputs": []
    },
    {
      "metadata": {
        "_uuid": "e0dacd63bc4cb3739cf0c6aebbe14d9dd2e82ae0"
      },
      "cell_type": "markdown",
      "source": "Here, each of the image (each row of the dataset) are having 784 features as each of these images are having 28 * 28 pixels. So we need to reshape the array for 5000 row from the dataset and plot it using imshow()."
    },
    {
      "metadata": {
        "trusted": true,
        "_uuid": "ae3dd83c2d6261af74493a75659aa6182a1734dc",
        "collapsed": true
      },
      "cell_type": "code",
      "source": "digit_to_predict_raw = np.array(df.iloc[5000,:])\ndigit_to_predict  = np.array(digit_to_predict_raw).reshape(28,28)\ndigit_to_predict.shape",
      "execution_count": null,
      "outputs": []
    },
    {
      "metadata": {
        "trusted": true,
        "_uuid": "765ab39e4af6de83a2e4bca20d803858b06c4e8b",
        "collapsed": true
      },
      "cell_type": "code",
      "source": "plt.imshow(digit_to_predict,cmap = matplotlib.cm.binary)\nplt.show()",
      "execution_count": null,
      "outputs": []
    },
    {
      "metadata": {
        "_uuid": "efa038a9552769bae7dbb90710ea49c658df3187"
      },
      "cell_type": "markdown",
      "source": "The label of the training data matches with that of the image which we got above."
    },
    {
      "metadata": {
        "trusted": true,
        "_uuid": "a1f75650e04a8c15d9dc89d2b7d1f218fc7e6b33",
        "collapsed": true
      },
      "cell_type": "code",
      "source": "y[5000]",
      "execution_count": null,
      "outputs": []
    },
    {
      "metadata": {
        "trusted": true,
        "_uuid": "716d03040ad7b23566eacd7bd0ba5196321ce634",
        "collapsed": true
      },
      "cell_type": "code",
      "source": "from sklearn.model_selection import train_test_split\nX_train, X_test, y_train, y_test = train_test_split(df, y, test_size=0.30, random_state=42)",
      "execution_count": null,
      "outputs": []
    },
    {
      "metadata": {
        "trusted": true,
        "_uuid": "e5a1e80a3f8e6bde15a7f0c0baed6b8460663423",
        "collapsed": true
      },
      "cell_type": "code",
      "source": "y_train_8 = np.array(y_train == 8)\ny_test_8 = np.array(y_test == 8)",
      "execution_count": null,
      "outputs": []
    },
    {
      "metadata": {
        "trusted": true,
        "scrolled": true,
        "_uuid": "137847c5a948a91b1d6f31fd3385274f057e29c4",
        "collapsed": true
      },
      "cell_type": "code",
      "source": "from sklearn.linear_model import SGDClassifier\n\nsgd_clf = SGDClassifier(max_iter=5, random_state=42)\nsgd_clf.fit(X_train, y_train_8)",
      "execution_count": null,
      "outputs": []
    },
    {
      "metadata": {
        "trusted": true,
        "_uuid": "440c4d90888f5f31c307c1f2bc220dfffe7aa7f8",
        "collapsed": true
      },
      "cell_type": "code",
      "source": "pred = sgd_clf.predict(X_test)\npred",
      "execution_count": null,
      "outputs": []
    },
    {
      "metadata": {
        "trusted": true,
        "_uuid": "9d86c4b7b2b1f08a6ad7c9e965d94e25a329db6e",
        "collapsed": true
      },
      "cell_type": "code",
      "source": "y_test[:4]",
      "execution_count": null,
      "outputs": []
    },
    {
      "metadata": {
        "trusted": true,
        "_uuid": "63aa12c8160b6512c546e3f4955e765b49bbede0",
        "scrolled": true,
        "collapsed": true
      },
      "cell_type": "code",
      "source": "from sklearn.model_selection import cross_val_score\ncross_val_score(sgd_clf, X_train, y_train_8, cv=5, scoring=\"accuracy\")",
      "execution_count": null,
      "outputs": []
    },
    {
      "metadata": {
        "_uuid": "26b8d3c3c67aa7de9eb9291fab44be016a81354e"
      },
      "cell_type": "markdown",
      "source": "Let's check the number of True/False occurences in `y_train_8` array."
    },
    {
      "metadata": {
        "trusted": true,
        "_uuid": "6d1f3bdb31e257cf12550dbc667f94efa51f4edd",
        "collapsed": true
      },
      "cell_type": "code",
      "source": "import collections\ncollections.Counter(y_train_8)",
      "execution_count": null,
      "outputs": []
    },
    {
      "metadata": {
        "_uuid": "6547c943c55fe8750d492cca05af757048705239"
      },
      "cell_type": "markdown",
      "source": "We can very well see that if we predict that there are no \"8\" present in the dataset, our model will give an accuracy of around 90%. So, clearly accuracy is not the best evaluation metric for evaluating such imbalanced dataset."
    },
    {
      "metadata": {
        "trusted": true,
        "_uuid": "45b05cbd3d2435701bbb668cf7f1b4001697a7e3",
        "collapsed": true
      },
      "cell_type": "code",
      "source": "num_of_8_not_occur = collections.Counter(y_train_8)[0]\nprint(\"The accuracy of model if we predict there are NO 8 present in the dataset :\",\n      num_of_8_not_occur/len(y_train_8))",
      "execution_count": null,
      "outputs": []
    },
    {
      "metadata": {
        "trusted": true,
        "collapsed": true,
        "_uuid": "fae31fac3cc74a30dd0be24be3aa058b8959afb6"
      },
      "cell_type": "markdown",
      "source": "Confusion Matrix:"
    },
    {
      "metadata": {
        "trusted": true,
        "_uuid": "2bd008e4bdf0baacdbd254799578c2894203a66c",
        "collapsed": true
      },
      "cell_type": "code",
      "source": "from sklearn.model_selection import cross_val_predict\nfrom sklearn.metrics import confusion_matrix\ny_train_8_pred = cross_val_predict(sgd_clf, X_train, y_train_8, cv=3)\nconfusion_matrix(y_train_8, y_train_8_pred)\n",
      "execution_count": null,
      "outputs": []
    },
    {
      "metadata": {
        "trusted": true,
        "_uuid": "8a8b928e0b9e80cdf312641469bbabbc964a6203",
        "collapsed": true
      },
      "cell_type": "code",
      "source": "from sklearn import metrics\ndef get_metrics(true_labels, predicted_labels):\n    \n    print('Accuracy:', np.round(\n                        metrics.accuracy_score(true_labels, \n                                               predicted_labels),\n                        4))\n    print('Precision:', np.round(\n                        metrics.precision_score(true_labels, \n                                               predicted_labels,\n                                               average='weighted'),\n                        4))\n    print('Recall:', np.round(\n                        metrics.recall_score(true_labels, \n                                               predicted_labels,\n                                               average='weighted'),\n                        4))\n    print('F1 Score:', np.round(\n                        metrics.f1_score(true_labels, \n                                               predicted_labels,\n                                               average='weighted'),\n                        4))",
      "execution_count": null,
      "outputs": []
    },
    {
      "metadata": {
        "trusted": true,
        "_uuid": "52c3f689ce1e539ce2d3886c531e69133d35be76",
        "collapsed": true
      },
      "cell_type": "code",
      "source": "get_metrics(y_train_8, y_train_8_pred)",
      "execution_count": null,
      "outputs": []
    },
    {
      "metadata": {
        "trusted": true,
        "collapsed": true,
        "_uuid": "7b094ed76fdf2d5aaa61c6a444623a3e8e2ded94"
      },
      "cell_type": "code",
      "source": "def display_confusion_matrix(true_labels, predicted_labels, classes=[1,0]):\n    \n    total_classes = len(classes)\n    level_labels = [total_classes*[0], list(range(total_classes))]\n\n    cm = metrics.confusion_matrix(y_true=true_labels, y_pred=predicted_labels, \n                                  labels=classes)\n    cm_frame = pd.DataFrame(data=cm, \n                            columns=pd.MultiIndex(levels=[['Predicted:'], classes], \n                                                  labels=level_labels), \n                            index=pd.MultiIndex(levels=[['Actual:'], classes], \n                                                labels=level_labels)) \n    print(cm_frame) ",
      "execution_count": null,
      "outputs": []
    },
    {
      "metadata": {
        "trusted": true,
        "_uuid": "05a58126b2ac5a6195d4966f0cfb29702f765677",
        "collapsed": true
      },
      "cell_type": "code",
      "source": "display_confusion_matrix(y_train_8, y_train_8_pred)",
      "execution_count": null,
      "outputs": []
    },
    {
      "metadata": {
        "trusted": true,
        "_uuid": "09f089bce6ab06b87abab5398826f7471d5fce01",
        "collapsed": true
      },
      "cell_type": "code",
      "source": "y_scores = cross_val_predict(sgd_clf, X_train, y_train_8, cv=3,\n                             method=\"decision_function\")",
      "execution_count": null,
      "outputs": []
    },
    {
      "metadata": {
        "trusted": true,
        "_uuid": "13e515eacb66ea314d4cddaf96e4c81e9a8184e8",
        "collapsed": true
      },
      "cell_type": "code",
      "source": "from sklearn.metrics import precision_recall_curve\n\nprecisions, recalls, thresholds = precision_recall_curve(y_train_8, y_scores)",
      "execution_count": null,
      "outputs": []
    },
    {
      "metadata": {
        "trusted": true,
        "_uuid": "5cf3e80c3f74b287576786ed41d6e1684ea15996",
        "collapsed": true
      },
      "cell_type": "code",
      "source": "def plot_precision_recall_vs_threshold(precisions, recalls, thresholds):\n    plt.plot(thresholds, precisions[:-1], \"b--\", label=\"Precision\", linewidth=2)\n    plt.plot(thresholds, recalls[:-1], \"g-\", label=\"Recall\", linewidth=2)\n    plt.xlabel(\"Threshold\", fontsize=16)\n    plt.legend(loc=\"upper left\", fontsize=16)\n    plt.ylim([0, 1])\n\nplt.figure(figsize=(8, 4))\nplot_precision_recall_vs_threshold(precisions, recalls, thresholds)\nplt.xlim([-1700000, 1700000])\nplt.show()",
      "execution_count": null,
      "outputs": []
    },
    {
      "metadata": {
        "_uuid": "89b6393c3f566fe8418a150dd2715f5440aadda9"
      },
      "cell_type": "markdown",
      "source": "So, let's say we would like to have 90% precision, from the above plot, for a 90% precision, we need to take a threshold of around 700000."
    },
    {
      "metadata": {
        "trusted": true,
        "collapsed": true,
        "_uuid": "9ba7cd5ece192d4d51c270a2526ac8d8f0f41150"
      },
      "cell_type": "code",
      "source": "y_train_prec_90 = (y_scores > 700000)",
      "execution_count": null,
      "outputs": []
    },
    {
      "metadata": {
        "trusted": true,
        "_uuid": "16d7304d0edffe6642490c6ecfdbc6165a3d2382",
        "collapsed": true
      },
      "cell_type": "code",
      "source": "from sklearn.metrics import precision_score, recall_score\nprecision_score(y_train_8, y_train_prec_90)",
      "execution_count": null,
      "outputs": []
    },
    {
      "metadata": {
        "_uuid": "8a6a5d6ec662f1336785ac2a81f9fc443bff1bfa"
      },
      "cell_type": "markdown",
      "source": "Thus, we have achieved a precision of about 90% but at a recall of 16%."
    },
    {
      "metadata": {
        "trusted": true,
        "_uuid": "fbff686cf6808695c94ebee065d9d88876eeb7ee",
        "collapsed": true
      },
      "cell_type": "code",
      "source": "recall_score(y_train_8, y_train_prec_90)",
      "execution_count": null,
      "outputs": []
    },
    {
      "metadata": {
        "_uuid": "f9d4d147b49904de8b10325bcd046023f2735544"
      },
      "cell_type": "markdown",
      "source": "## ROC curve for SGDClassifier():"
    },
    {
      "metadata": {
        "trusted": true,
        "collapsed": true,
        "_uuid": "3cf3ed32f2bd3c0202e2fe564374ad743bd01289"
      },
      "cell_type": "code",
      "source": "from sklearn.metrics import roc_auc_score, roc_curve\nfpr, tpr, thresholds = roc_curve(y_train_8, y_scores)",
      "execution_count": null,
      "outputs": []
    },
    {
      "metadata": {
        "trusted": true,
        "_uuid": "e8eb0eb2d7a60ebf2e6e03c984912638893e894c",
        "collapsed": true
      },
      "cell_type": "code",
      "source": "def plot_roc_curve(fpr,tpr, label=None):\n    plt.plot(fpr, tpr, linewidth=2, label = label)\n    plt.plot([0,1], [0,1],'k--')\n    plt.axis([0,1,0,1])\n    plt.xlabel('False Positive Rate')\n    plt.ylabel('True Positive Rate')\n    \nplot_roc_curve(fpr,tpr)\n\nprint(\"The AUC score is :\", roc_auc_score(y_train_8, y_scores))",
      "execution_count": null,
      "outputs": []
    },
    {
      "metadata": {
        "trusted": true,
        "collapsed": true,
        "_uuid": "d82e612ceecd83e9ea4961b52dad95840576475d"
      },
      "cell_type": "code",
      "source": "from sklearn.ensemble import RandomForestClassifier\nforest_clf = RandomForestClassifier(n_jobs=-1)\ny_forest_pred = cross_val_predict(forest_clf, X_train, y_train_8, cv=3, method='predict_proba')\ny_forest_pred_f = cross_val_predict(forest_clf, X_train, y_train_8, cv=3)",
      "execution_count": null,
      "outputs": []
    },
    {
      "metadata": {
        "trusted": true,
        "_uuid": "dc575517d47ca0af2dad3921e1e7bc00ac94b62e",
        "collapsed": true
      },
      "cell_type": "code",
      "source": "y_scores_forest= y_forest_pred[:,1]\nfpr_f, tpr_f, thresholds_f = roc_curve(y_train_8, y_scores_forest)",
      "execution_count": null,
      "outputs": []
    },
    {
      "metadata": {
        "trusted": true,
        "_uuid": "46bea058d53a79bf9d5be57ba0826db658178fcd",
        "scrolled": true,
        "collapsed": true
      },
      "cell_type": "code",
      "source": "plt.plot(fpr, tpr, \"b:\", label=\"SGD\")\nplot_roc_curve(fpr_f, tpr_f, \"Random Forest\")\nplt.legend(loc=\"lower right\")\nplt.show()\n\nprint(\"Classification metrics for SGD :\")\nprint(\"The AUC score for SGD is :\", roc_auc_score(y_train_8, y_scores))\nget_metrics(y_train_8, y_train_8_pred)\nprint(\"\\nClassification metrics for RandomForest :\")\nprint(\"The AUC score is RandomForest is :\", roc_auc_score(y_train_8, y_scores_forest))\nget_metrics(y_train_8, y_forest_pred_f)",
      "execution_count": null,
      "outputs": []
    },
    {
      "metadata": {
        "_uuid": "3c58949f7113f0b37ae2ede61cbfae22df03b2d6"
      },
      "cell_type": "markdown",
      "source": "We can see AUC for Random forest classifier is much better than SGD classifier. \nPrecision and recall is also coming to be around 96% which is much better than SGD."
    },
    {
      "metadata": {
        "trusted": true,
        "collapsed": true,
        "_uuid": "65dbb9fb2af444b6f816b95800ab1e9bd053076a"
      },
      "cell_type": "markdown",
      "source": "## Multi-Class classification"
    },
    {
      "metadata": {
        "_uuid": "0be10b516faec1f40962b67b88a92ace980e3337"
      },
      "cell_type": "markdown",
      "source": "Unlike binary classifiers, multi class classifiers can distinguish between more than two classes.\nAlgorithms like Random forest, Naive Bayes are capable of handling multiple classes directly, whereas Support Vector Machines are Binary Classifiers. \nWe can perform Multi-class classification using Binary Classifiers using various strategies:\n\n**1.  One-Vs-All (OvA)**\n    Split the training set into three separate binary classification problems\n    i.e. create a new fake training set\n    *     Triangle (1) vs crosses and squares (0)   hθ1(x) = P(y=1 | x1; θ)\n    *     Crosses (1) vs triangle and square (0)    hθ2(x) = P(y=1 | x2; θ)\n    *     Square (1) vs crosses and square (0)      hθ3(x) = P(y=1 | x3; θ)\n           \n    On a new input, x to make a prediction, pick the class i that maximizes the probability that hθ(i)(x) = 1    \n       \n           \n![](https://1.bp.blogspot.com/-cEz0wkXUPmA/WLJq3e6CDAI/AAAAAAAAFX4/Wramg-8qC_QH13K0qosnPAbvccXdbBU-ACLcB/s1600/VQvgVUs%255B1%255D.png)       \n\n\n\n**2. One-versus-One (OvO)**\nWe'll train a Binary classifier for every pair of classes - one to distinguish between 0's and 1's, another for 0's and 2's and so on.\nSo, if we have N classes, we'll have to train Nx(N-1)/2 classifiers.\n\nAdvantage of OvO: It needs to be trained on the part of the training set for the two classes. so, we will be training many classifiers on small training sets.\n\nSome algorithms like Support Vector Machines scale very poorly with the size of the training set, so for such algorithms, we'll prefer OvO (faster to train many classifiers on small training sets)."
    },
    {
      "metadata": {
        "_uuid": "72ad2d698c9ee0d5ba8426c5bd9f6c472e1ddf46"
      },
      "cell_type": "markdown",
      "source": "Except for SVM classifiers (runs on OvO strategy), scikit-learn automatically runs OvA strategy for Multi-Class classification. \nSo, let's try SGD classifier:"
    },
    {
      "metadata": {
        "trusted": true,
        "_uuid": "76e283840bb3667c6f9f640f3107da92a3da3722",
        "collapsed": true
      },
      "cell_type": "code",
      "source": "sgd_multi_clf = SGDClassifier(max_iter=5, random_state=42)\nsgd_multi_clf.fit(X_train, y_train)  \n## we'll be using y_train here as scikit learn trains the model against actual \n## target labels 0 to 9 (10 classifiers each for 1 class); it'll compare 10 \n## classification scores and choose the class having the highest score \n## for a new data point.\nsgd_multi_clf.predict([digit_to_predict_raw])",
      "execution_count": null,
      "outputs": []
    },
    {
      "metadata": {
        "trusted": true,
        "_uuid": "003fc6d16171a746eebbf233fa4db7cb159b3836",
        "collapsed": true
      },
      "cell_type": "code",
      "source": "## So, here we can see the scores against all the 10 classifiers\ndigit_to_predict_scores = sgd_multi_clf.decision_function([digit_to_predict_raw])\nmax_score_index = np.argmax(digit_to_predict_scores)  ## index of the maximum score\nprint(\"Scores of 10 classifiers :\", digit_to_predict_scores)\n## We'll find out the class corresponding to the index value of the mximum score\nprint(\"Maximum score among all these Scores is for Class : {} having Score of : {}\" \n      .format(sgd_multi_clf.classes_[max_score_index], digit_to_predict_scores[0][8])) ",
      "execution_count": null,
      "outputs": []
    },
    {
      "metadata": {
        "_uuid": "829381c4bc7b9bb1f4f05c9ee3d45823688565d5"
      },
      "cell_type": "markdown",
      "source": "## Evaluating SGD Classifier\nWe can seeaccuracy of SGD classifier has improved from 80% to 90% simply by scaling the input data."
    },
    {
      "metadata": {
        "trusted": true,
        "_uuid": "889f81beca66165019910630fc21d78314710706",
        "collapsed": true
      },
      "cell_type": "code",
      "source": "cross_val_score(sgd_multi_clf, X_train, y_train, cv=3, scoring=\"accuracy\")",
      "execution_count": null,
      "outputs": []
    },
    {
      "metadata": {
        "trusted": true,
        "_uuid": "4315a1bde12a4347fda07ea43e0db200640ae5b0",
        "collapsed": true
      },
      "cell_type": "code",
      "source": "from sklearn.preprocessing import StandardScaler\nscaler = StandardScaler()\nX_train_scaled = scaler.fit_transform(X_train.astype(np.float64))\ncross_val_score(sgd_multi_clf, X_train_scaled, y_train, cv=3, scoring=\"accuracy\")",
      "execution_count": null,
      "outputs": []
    },
    {
      "metadata": {
        "trusted": true,
        "_uuid": "2ac39cf22616bc243d587dc6bf78dd1f26b38d09",
        "collapsed": true
      },
      "cell_type": "code",
      "source": "from sklearn.multiclass import OneVsOneClassifier\nfrom sklearn.preprocessing import StandardScaler\nscaler = StandardScaler()\nX_train_scaled = scaler.fit_transform(X_train.astype(np.float64))\novo_clf = OneVsOneClassifier(sgd_multi_clf)\novo_clf.fit(X_train_scaled, y_train)\novo_clf.predict([digit_to_predict_raw])\n",
      "execution_count": null,
      "outputs": []
    },
    {
      "metadata": {
        "_uuid": "85e37b7e5a0934f013da8e78cfd143d0aa19c8d8"
      },
      "cell_type": "markdown",
      "source": "For OvO classifier, Nx(N-1)/2 classifiers are generated as seen from the number of estimators below - where N is the number of classes."
    },
    {
      "metadata": {
        "trusted": true,
        "_uuid": "82c6cdb29a97d654a6d3cfb4a3488663c43dcaef",
        "collapsed": true
      },
      "cell_type": "code",
      "source": "len(ovo_clf.estimators_)",
      "execution_count": null,
      "outputs": []
    },
    {
      "metadata": {
        "_uuid": "d72d73c7442120e3d55c901caa73d5fc615f310b"
      },
      "cell_type": "markdown",
      "source": "## **Using RandomForest classifier**"
    },
    {
      "metadata": {
        "trusted": true,
        "_uuid": "b6bdf15665ac06df216e82a3ad94dd2dd0fbd5c7",
        "collapsed": true
      },
      "cell_type": "code",
      "source": "from sklearn.ensemble import RandomForestClassifier\nforest_clf = RandomForestClassifier(n_jobs=-1)\nforest_clf.fit(X_train, y_train)\nforest_clf.predict([digit_to_predict_raw])",
      "execution_count": null,
      "outputs": []
    },
    {
      "metadata": {
        "trusted": true,
        "_uuid": "5b91662cedf5b154a41cfb85069e7e69ca81062a",
        "collapsed": true
      },
      "cell_type": "code",
      "source": "cross_val_score(forest_clf, X_train, y_train, cv=3, scoring=\"accuracy\")",
      "execution_count": null,
      "outputs": []
    },
    {
      "metadata": {
        "_uuid": "5c66e9dfa790fc8ce6b6d04e13a92b8112498098"
      },
      "cell_type": "markdown",
      "source": "## Evaluation metrics for Multi-class classifier"
    },
    {
      "metadata": {
        "trusted": true,
        "_uuid": "4b4d965bdf7b1cb4dcdfde54846e799e3e1bbc7d",
        "collapsed": true
      },
      "cell_type": "code",
      "source": "from sklearn.preprocessing import StandardScaler\nscaler = StandardScaler()\nX_train_scaled = scaler.fit_transform(X_train.astype(np.float64))\ny_train_pred_svm = cross_val_predict(sgd_multi_clf, X_train_scaled, y_train, cv=3)\nconf_mx = confusion_matrix(y_train, y_train_pred_svm)\nplt.matshow(conf_mx, cmap=plt.cm.gray)\nplt.show()\n\n## most images are on the main diagonal, which means that\n## they were classified correctly",
      "execution_count": null,
      "outputs": []
    },
    {
      "metadata": {
        "trusted": true,
        "_uuid": "afbc473ec5c751aac6028523cd2c0c07503f0638",
        "collapsed": true
      },
      "cell_type": "code",
      "source": "from sklearn.neighbors import KNeighborsClassifier\nknn_clf = KNeighborsClassifier(n_jobs=-1, weights = 'distance', n_neighbors=4)\nknn_clf.fit(X_train, y_train)\nknn_clf.predict([digit_to_predict_raw])",
      "execution_count": null,
      "outputs": []
    },
    {
      "metadata": {
        "_uuid": "68e3865ec721c7cc367df8155c42a8667deff519"
      },
      "cell_type": "markdown",
      "source": "Here, KNN is outperforming other algorithms like RandomForest, SGD classifier."
    },
    {
      "metadata": {
        "trusted": true,
        "_uuid": "5dfefe631b80ba7be9f8d66d67ae6aea4e46b4c9",
        "collapsed": true
      },
      "cell_type": "code",
      "source": "cross_val_score(knn_clf, X_train, y_train, cv=3, scoring=\"accuracy\")",
      "execution_count": null,
      "outputs": []
    },
    {
      "metadata": {
        "trusted": true,
        "collapsed": true,
        "_uuid": "b6502b0fb565f6b1473fb5710eed752159efa7cf"
      },
      "cell_type": "code",
      "source": "",
      "execution_count": null,
      "outputs": []
    }
  ],
  "metadata": {
    "kernelspec": {
      "display_name": "Python 3",
      "language": "python",
      "name": "python3"
    },
    "language_info": {
      "name": "python",
      "version": "3.6.4",
      "mimetype": "text/x-python",
      "codemirror_mode": {
        "name": "ipython",
        "version": 3
      },
      "pygments_lexer": "ipython3",
      "nbconvert_exporter": "python",
      "file_extension": ".py"
    }
  },
  "nbformat": 4,
  "nbformat_minor": 1
}